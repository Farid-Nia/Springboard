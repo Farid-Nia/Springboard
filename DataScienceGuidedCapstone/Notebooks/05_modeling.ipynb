{
 "cells": [
  {
   "cell_type": "markdown",
   "metadata": {},
   "source": [
    "# 5 Modeling<a id='5_Modeling'></a>"
   ]
  },
  {
   "cell_type": "markdown",
   "metadata": {},
   "source": [
    "## 5.1 Contents<a id='5.1_Contents'></a>\n",
    "* [5 Modeling](#5_Modeling)\n",
    "  * [5.1 Contents](#5.1_Contents)\n",
    "  * [5.2 Introduction](#5.2_Introduction)\n",
    "  * [5.3 Imports](#5.3_Imports)\n",
    "  * [5.4 Load Model](#5.4_Load_Model)\n",
    "  * [5.5 Load Data](#5.5_Load_Data)\n",
    "  * [5.6 Refit Model On All Available Data (excluding Big Mountain)](#5.6_Refit_Model_On_All_Available_Data_(excluding_Big_Mountain))\n",
    "  * [5.7 Calculate Expected Big Mountain Ticket Price From The Model](#5.7_Calculate_Expected_Big_Mountain_Ticket_Price_From_The_Model)\n",
    "  * [5.8 Big Mountain Resort In Market Context](#5.8_Big_Mountain_Resort_In_Market_Context)\n",
    "    * [5.8.1 Ticket price](#5.8.1_Ticket_price)\n",
    "    * [5.8.2 Vertical drop](#5.8.2_Vertical_drop)\n",
    "    * [5.8.3 Snow making area](#5.8.3_Snow_making_area)\n",
    "    * [5.8.4 Total number of chairs](#5.8.4_Total_number_of_chairs)\n",
    "    * [5.8.5 Fast quads](#5.8.5_Fast_quads)\n",
    "    * [5.8.6 Runs](#5.8.6_Runs)\n",
    "    * [5.8.7 Longest run](#5.8.7_Longest_run)\n",
    "    * [5.8.8 Trams](#5.8.8_Trams)\n",
    "    * [5.8.9 Skiable terrain area](#5.8.9_Skiable_terrain_area)\n",
    "  * [5.9 Modeling scenarios](#5.9_Modeling_scenarios)\n",
    "    * [5.9.1 Scenario 1](#5.9.1_Scenario_1)\n",
    "    * [5.9.2 Scenario 2](#5.9.2_Scenario_2)\n",
    "    * [5.9.3 Scenario 3](#5.9.3_Scenario_3)\n",
    "    * [5.9.4 Scenario 4](#5.9.4_Scenario_4)\n",
    "  * [5.10 Summary](#5.10_Summary)\n",
    "  * [5.11 Further work](#5.11_Further_work)\n"
   ]
  },
  {
   "cell_type": "markdown",
   "metadata": {},
   "source": [
    "## 5.2 Introduction<a id='5.2_Introduction'></a>"
   ]
  },
  {
   "cell_type": "markdown",
   "metadata": {},
   "source": [
    "In this notebook, we now take our model for ski resort ticket price and leverage it to gain some insights into what price Big Mountain's facilities might actually support as well as explore the sensitivity of changes to various resort parameters. Note that this relies on the implicit assumption that all other resorts are largely setting prices based on how much people value certain facilities. Essentially this assumes prices are set by a free market.\n",
    "\n",
    "We can now use our model to gain insight into what Big Mountain's ideal ticket price could/should be, and how that might change under various scenarios."
   ]
  },
  {
   "cell_type": "markdown",
   "metadata": {},
   "source": [
    "## 5.3 Imports<a id='5.3_Imports'></a>"
   ]
  },
  {
   "cell_type": "code",
   "execution_count": 3,
   "metadata": {},
   "outputs": [],
   "source": [
    "import pandas as pd\n",
    "import numpy as np\n",
    "import os\n",
    "import pickle\n",
    "import matplotlib.pyplot as plt\n",
    "import seaborn as sns\n",
    "from sklearn import __version__ as sklearn_version\n",
    "from sklearn.model_selection import cross_validate"
   ]
  },
  {
   "cell_type": "markdown",
   "metadata": {},
   "source": [
    "## 5.4 Load Model<a id='5.4_Load_Model'></a>"
   ]
  },
  {
   "cell_type": "code",
   "execution_count": 7,
   "metadata": {},
   "outputs": [
    {
     "name": "stdout",
     "output_type": "stream",
     "text": [
      "Expected model version doesn't match version loaded\n"
     ]
    }
   ],
   "source": [
    "# This isn't exactly production-grade, but a quick check for development\n",
    "# These checks can save some head-scratching in development when moving from\n",
    "# one python environment to another, for example\n",
    "expected_model_version = '1.0'\n",
    "model_path = '../models/ski_resort_pricing_model.pkl'\n",
    "if os.path.exists(model_path):\n",
    "    with open(model_path, 'rb') as f:\n",
    "        model = pickle.load(f)\n",
    "    if model.version != expected_model_version:\n",
    "        print(\"Expected model version doesn't match version loaded\")\n",
    "    if model.sklearn_version != sklearn_version:\n",
    "        print(\"Warning: model created under different sklearn version\")\n",
    "else:\n",
    "    print(\"Expected model not found\")"
   ]
  },
  {
   "cell_type": "markdown",
   "metadata": {},
   "source": [
    "## 5.5 Load Data<a id='5.5_Load_Data'></a>"
   ]
  },
  {
   "cell_type": "code",
   "execution_count": 9,
   "metadata": {},
   "outputs": [],
   "source": [
    "ski_data = pd.read_csv('../data/ski_data_step3_features.csv')"
   ]
  },
  {
   "cell_type": "code",
   "execution_count": 11,
   "metadata": {},
   "outputs": [],
   "source": [
    "big_mountain = ski_data[ski_data.Name == 'Big Mountain Resort']"
   ]
  },
  {
   "cell_type": "code",
   "execution_count": 13,
   "metadata": {
    "scrolled": true
   },
   "outputs": [
    {
     "data": {
      "text/html": [
       "<div>\n",
       "<style scoped>\n",
       "    .dataframe tbody tr th:only-of-type {\n",
       "        vertical-align: middle;\n",
       "    }\n",
       "\n",
       "    .dataframe tbody tr th {\n",
       "        vertical-align: top;\n",
       "    }\n",
       "\n",
       "    .dataframe thead th {\n",
       "        text-align: right;\n",
       "    }\n",
       "</style>\n",
       "<table border=\"1\" class=\"dataframe\">\n",
       "  <thead>\n",
       "    <tr style=\"text-align: right;\">\n",
       "      <th></th>\n",
       "      <th>124</th>\n",
       "    </tr>\n",
       "  </thead>\n",
       "  <tbody>\n",
       "    <tr>\n",
       "      <th>Name</th>\n",
       "      <td>Big Mountain Resort</td>\n",
       "    </tr>\n",
       "    <tr>\n",
       "      <th>Region</th>\n",
       "      <td>Montana</td>\n",
       "    </tr>\n",
       "    <tr>\n",
       "      <th>state</th>\n",
       "      <td>Montana</td>\n",
       "    </tr>\n",
       "    <tr>\n",
       "      <th>summit_elev</th>\n",
       "      <td>6817</td>\n",
       "    </tr>\n",
       "    <tr>\n",
       "      <th>vertical_drop</th>\n",
       "      <td>2353</td>\n",
       "    </tr>\n",
       "    <tr>\n",
       "      <th>base_elev</th>\n",
       "      <td>4464</td>\n",
       "    </tr>\n",
       "    <tr>\n",
       "      <th>trams</th>\n",
       "      <td>0</td>\n",
       "    </tr>\n",
       "    <tr>\n",
       "      <th>fastSixes</th>\n",
       "      <td>0</td>\n",
       "    </tr>\n",
       "    <tr>\n",
       "      <th>fastQuads</th>\n",
       "      <td>3</td>\n",
       "    </tr>\n",
       "    <tr>\n",
       "      <th>quad</th>\n",
       "      <td>2</td>\n",
       "    </tr>\n",
       "    <tr>\n",
       "      <th>triple</th>\n",
       "      <td>6</td>\n",
       "    </tr>\n",
       "    <tr>\n",
       "      <th>double</th>\n",
       "      <td>0</td>\n",
       "    </tr>\n",
       "    <tr>\n",
       "      <th>surface</th>\n",
       "      <td>3</td>\n",
       "    </tr>\n",
       "    <tr>\n",
       "      <th>total_chairs</th>\n",
       "      <td>14</td>\n",
       "    </tr>\n",
       "    <tr>\n",
       "      <th>Runs</th>\n",
       "      <td>105.0</td>\n",
       "    </tr>\n",
       "    <tr>\n",
       "      <th>TerrainParks</th>\n",
       "      <td>4.0</td>\n",
       "    </tr>\n",
       "    <tr>\n",
       "      <th>LongestRun_mi</th>\n",
       "      <td>3.3</td>\n",
       "    </tr>\n",
       "    <tr>\n",
       "      <th>SkiableTerrain_ac</th>\n",
       "      <td>3000.0</td>\n",
       "    </tr>\n",
       "    <tr>\n",
       "      <th>Snow Making_ac</th>\n",
       "      <td>600.0</td>\n",
       "    </tr>\n",
       "    <tr>\n",
       "      <th>daysOpenLastYear</th>\n",
       "      <td>123.0</td>\n",
       "    </tr>\n",
       "    <tr>\n",
       "      <th>yearsOpen</th>\n",
       "      <td>72.0</td>\n",
       "    </tr>\n",
       "    <tr>\n",
       "      <th>averageSnowfall</th>\n",
       "      <td>333.0</td>\n",
       "    </tr>\n",
       "    <tr>\n",
       "      <th>AdultWeekend</th>\n",
       "      <td>81.0</td>\n",
       "    </tr>\n",
       "    <tr>\n",
       "      <th>projectedDaysOpen</th>\n",
       "      <td>123.0</td>\n",
       "    </tr>\n",
       "    <tr>\n",
       "      <th>NightSkiing_ac</th>\n",
       "      <td>600.0</td>\n",
       "    </tr>\n",
       "    <tr>\n",
       "      <th>resorts_per_state</th>\n",
       "      <td>12</td>\n",
       "    </tr>\n",
       "    <tr>\n",
       "      <th>resorts_per_100kcapita</th>\n",
       "      <td>1.122778</td>\n",
       "    </tr>\n",
       "    <tr>\n",
       "      <th>resorts_per_100ksq_mile</th>\n",
       "      <td>8.161045</td>\n",
       "    </tr>\n",
       "    <tr>\n",
       "      <th>resort_skiable_area_ac_state_ratio</th>\n",
       "      <td>0.140121</td>\n",
       "    </tr>\n",
       "    <tr>\n",
       "      <th>resort_days_open_state_ratio</th>\n",
       "      <td>0.129338</td>\n",
       "    </tr>\n",
       "    <tr>\n",
       "      <th>resort_terrain_park_state_ratio</th>\n",
       "      <td>0.148148</td>\n",
       "    </tr>\n",
       "    <tr>\n",
       "      <th>resort_night_skiing_state_ratio</th>\n",
       "      <td>0.84507</td>\n",
       "    </tr>\n",
       "  </tbody>\n",
       "</table>\n",
       "</div>"
      ],
      "text/plain": [
       "                                                    124\n",
       "Name                                Big Mountain Resort\n",
       "Region                                          Montana\n",
       "state                                           Montana\n",
       "summit_elev                                        6817\n",
       "vertical_drop                                      2353\n",
       "base_elev                                          4464\n",
       "trams                                                 0\n",
       "fastSixes                                             0\n",
       "fastQuads                                             3\n",
       "quad                                                  2\n",
       "triple                                                6\n",
       "double                                                0\n",
       "surface                                               3\n",
       "total_chairs                                         14\n",
       "Runs                                              105.0\n",
       "TerrainParks                                        4.0\n",
       "LongestRun_mi                                       3.3\n",
       "SkiableTerrain_ac                                3000.0\n",
       "Snow Making_ac                                    600.0\n",
       "daysOpenLastYear                                  123.0\n",
       "yearsOpen                                          72.0\n",
       "averageSnowfall                                   333.0\n",
       "AdultWeekend                                       81.0\n",
       "projectedDaysOpen                                 123.0\n",
       "NightSkiing_ac                                    600.0\n",
       "resorts_per_state                                    12\n",
       "resorts_per_100kcapita                         1.122778\n",
       "resorts_per_100ksq_mile                        8.161045\n",
       "resort_skiable_area_ac_state_ratio             0.140121\n",
       "resort_days_open_state_ratio                   0.129338\n",
       "resort_terrain_park_state_ratio                0.148148\n",
       "resort_night_skiing_state_ratio                 0.84507"
      ]
     },
     "execution_count": 13,
     "metadata": {},
     "output_type": "execute_result"
    }
   ],
   "source": [
    "big_mountain.T"
   ]
  },
  {
   "cell_type": "markdown",
   "metadata": {},
   "source": [
    "## 5.6 Refit Model On All Available Data (excluding Big Mountain)<a id='5.6_Refit_Model_On_All_Available_Data_(excluding_Big_Mountain)'></a>"
   ]
  },
  {
   "cell_type": "markdown",
   "metadata": {},
   "source": [
    "This next step requires some careful thought. We want to refit the model using all available data. But should we include Big Mountain data? On the one hand, we are _not_ trying to estimate model performance on a previously unseen data sample, so theoretically including Big Mountain data should be fine. One might first think that including Big Mountain in the model training would, if anything, improve model performance in predicting Big Mountain's ticket price. But here's where our business context comes in. The motivation for this entire project is based on the sense that Big Mountain needs to adjust its pricing. One way to phrase this problem: we want to train a model to predict Big Mountain's ticket price based on data from _all the other_ resorts! We don't want Big Mountain's current price to bias this. We want to calculate a price based only on its competitors."
   ]
  },
  {
   "cell_type": "code",
   "execution_count": 19,
   "metadata": {},
   "outputs": [],
   "source": [
    "X = ski_data.loc[ski_data.Name != \"Big Mountain Resort\", model.X_columns]\n",
    "y = ski_data.loc[ski_data.Name != \"Big Mountain Resort\", 'AdultWeekend']"
   ]
  },
  {
   "cell_type": "code",
   "execution_count": 21,
   "metadata": {},
   "outputs": [
    {
     "data": {
      "text/plain": [
       "(276, 276)"
      ]
     },
     "execution_count": 21,
     "metadata": {},
     "output_type": "execute_result"
    }
   ],
   "source": [
    "len(X), len(y)"
   ]
  },
  {
   "cell_type": "code",
   "execution_count": 23,
   "metadata": {},
   "outputs": [
    {
     "data": {
      "text/html": [
       "<style>#sk-container-id-1 {\n",
       "  /* Definition of color scheme common for light and dark mode */\n",
       "  --sklearn-color-text: black;\n",
       "  --sklearn-color-line: gray;\n",
       "  /* Definition of color scheme for unfitted estimators */\n",
       "  --sklearn-color-unfitted-level-0: #fff5e6;\n",
       "  --sklearn-color-unfitted-level-1: #f6e4d2;\n",
       "  --sklearn-color-unfitted-level-2: #ffe0b3;\n",
       "  --sklearn-color-unfitted-level-3: chocolate;\n",
       "  /* Definition of color scheme for fitted estimators */\n",
       "  --sklearn-color-fitted-level-0: #f0f8ff;\n",
       "  --sklearn-color-fitted-level-1: #d4ebff;\n",
       "  --sklearn-color-fitted-level-2: #b3dbfd;\n",
       "  --sklearn-color-fitted-level-3: cornflowerblue;\n",
       "\n",
       "  /* Specific color for light theme */\n",
       "  --sklearn-color-text-on-default-background: var(--sg-text-color, var(--theme-code-foreground, var(--jp-content-font-color1, black)));\n",
       "  --sklearn-color-background: var(--sg-background-color, var(--theme-background, var(--jp-layout-color0, white)));\n",
       "  --sklearn-color-border-box: var(--sg-text-color, var(--theme-code-foreground, var(--jp-content-font-color1, black)));\n",
       "  --sklearn-color-icon: #696969;\n",
       "\n",
       "  @media (prefers-color-scheme: dark) {\n",
       "    /* Redefinition of color scheme for dark theme */\n",
       "    --sklearn-color-text-on-default-background: var(--sg-text-color, var(--theme-code-foreground, var(--jp-content-font-color1, white)));\n",
       "    --sklearn-color-background: var(--sg-background-color, var(--theme-background, var(--jp-layout-color0, #111)));\n",
       "    --sklearn-color-border-box: var(--sg-text-color, var(--theme-code-foreground, var(--jp-content-font-color1, white)));\n",
       "    --sklearn-color-icon: #878787;\n",
       "  }\n",
       "}\n",
       "\n",
       "#sk-container-id-1 {\n",
       "  color: var(--sklearn-color-text);\n",
       "}\n",
       "\n",
       "#sk-container-id-1 pre {\n",
       "  padding: 0;\n",
       "}\n",
       "\n",
       "#sk-container-id-1 input.sk-hidden--visually {\n",
       "  border: 0;\n",
       "  clip: rect(1px 1px 1px 1px);\n",
       "  clip: rect(1px, 1px, 1px, 1px);\n",
       "  height: 1px;\n",
       "  margin: -1px;\n",
       "  overflow: hidden;\n",
       "  padding: 0;\n",
       "  position: absolute;\n",
       "  width: 1px;\n",
       "}\n",
       "\n",
       "#sk-container-id-1 div.sk-dashed-wrapped {\n",
       "  border: 1px dashed var(--sklearn-color-line);\n",
       "  margin: 0 0.4em 0.5em 0.4em;\n",
       "  box-sizing: border-box;\n",
       "  padding-bottom: 0.4em;\n",
       "  background-color: var(--sklearn-color-background);\n",
       "}\n",
       "\n",
       "#sk-container-id-1 div.sk-container {\n",
       "  /* jupyter's `normalize.less` sets `[hidden] { display: none; }`\n",
       "     but bootstrap.min.css set `[hidden] { display: none !important; }`\n",
       "     so we also need the `!important` here to be able to override the\n",
       "     default hidden behavior on the sphinx rendered scikit-learn.org.\n",
       "     See: https://github.com/scikit-learn/scikit-learn/issues/21755 */\n",
       "  display: inline-block !important;\n",
       "  position: relative;\n",
       "}\n",
       "\n",
       "#sk-container-id-1 div.sk-text-repr-fallback {\n",
       "  display: none;\n",
       "}\n",
       "\n",
       "div.sk-parallel-item,\n",
       "div.sk-serial,\n",
       "div.sk-item {\n",
       "  /* draw centered vertical line to link estimators */\n",
       "  background-image: linear-gradient(var(--sklearn-color-text-on-default-background), var(--sklearn-color-text-on-default-background));\n",
       "  background-size: 2px 100%;\n",
       "  background-repeat: no-repeat;\n",
       "  background-position: center center;\n",
       "}\n",
       "\n",
       "/* Parallel-specific style estimator block */\n",
       "\n",
       "#sk-container-id-1 div.sk-parallel-item::after {\n",
       "  content: \"\";\n",
       "  width: 100%;\n",
       "  border-bottom: 2px solid var(--sklearn-color-text-on-default-background);\n",
       "  flex-grow: 1;\n",
       "}\n",
       "\n",
       "#sk-container-id-1 div.sk-parallel {\n",
       "  display: flex;\n",
       "  align-items: stretch;\n",
       "  justify-content: center;\n",
       "  background-color: var(--sklearn-color-background);\n",
       "  position: relative;\n",
       "}\n",
       "\n",
       "#sk-container-id-1 div.sk-parallel-item {\n",
       "  display: flex;\n",
       "  flex-direction: column;\n",
       "}\n",
       "\n",
       "#sk-container-id-1 div.sk-parallel-item:first-child::after {\n",
       "  align-self: flex-end;\n",
       "  width: 50%;\n",
       "}\n",
       "\n",
       "#sk-container-id-1 div.sk-parallel-item:last-child::after {\n",
       "  align-self: flex-start;\n",
       "  width: 50%;\n",
       "}\n",
       "\n",
       "#sk-container-id-1 div.sk-parallel-item:only-child::after {\n",
       "  width: 0;\n",
       "}\n",
       "\n",
       "/* Serial-specific style estimator block */\n",
       "\n",
       "#sk-container-id-1 div.sk-serial {\n",
       "  display: flex;\n",
       "  flex-direction: column;\n",
       "  align-items: center;\n",
       "  background-color: var(--sklearn-color-background);\n",
       "  padding-right: 1em;\n",
       "  padding-left: 1em;\n",
       "}\n",
       "\n",
       "\n",
       "/* Toggleable style: style used for estimator/Pipeline/ColumnTransformer box that is\n",
       "clickable and can be expanded/collapsed.\n",
       "- Pipeline and ColumnTransformer use this feature and define the default style\n",
       "- Estimators will overwrite some part of the style using the `sk-estimator` class\n",
       "*/\n",
       "\n",
       "/* Pipeline and ColumnTransformer style (default) */\n",
       "\n",
       "#sk-container-id-1 div.sk-toggleable {\n",
       "  /* Default theme specific background. It is overwritten whether we have a\n",
       "  specific estimator or a Pipeline/ColumnTransformer */\n",
       "  background-color: var(--sklearn-color-background);\n",
       "}\n",
       "\n",
       "/* Toggleable label */\n",
       "#sk-container-id-1 label.sk-toggleable__label {\n",
       "  cursor: pointer;\n",
       "  display: block;\n",
       "  width: 100%;\n",
       "  margin-bottom: 0;\n",
       "  padding: 0.5em;\n",
       "  box-sizing: border-box;\n",
       "  text-align: center;\n",
       "}\n",
       "\n",
       "#sk-container-id-1 label.sk-toggleable__label-arrow:before {\n",
       "  /* Arrow on the left of the label */\n",
       "  content: \"▸\";\n",
       "  float: left;\n",
       "  margin-right: 0.25em;\n",
       "  color: var(--sklearn-color-icon);\n",
       "}\n",
       "\n",
       "#sk-container-id-1 label.sk-toggleable__label-arrow:hover:before {\n",
       "  color: var(--sklearn-color-text);\n",
       "}\n",
       "\n",
       "/* Toggleable content - dropdown */\n",
       "\n",
       "#sk-container-id-1 div.sk-toggleable__content {\n",
       "  max-height: 0;\n",
       "  max-width: 0;\n",
       "  overflow: hidden;\n",
       "  text-align: left;\n",
       "  /* unfitted */\n",
       "  background-color: var(--sklearn-color-unfitted-level-0);\n",
       "}\n",
       "\n",
       "#sk-container-id-1 div.sk-toggleable__content.fitted {\n",
       "  /* fitted */\n",
       "  background-color: var(--sklearn-color-fitted-level-0);\n",
       "}\n",
       "\n",
       "#sk-container-id-1 div.sk-toggleable__content pre {\n",
       "  margin: 0.2em;\n",
       "  border-radius: 0.25em;\n",
       "  color: var(--sklearn-color-text);\n",
       "  /* unfitted */\n",
       "  background-color: var(--sklearn-color-unfitted-level-0);\n",
       "}\n",
       "\n",
       "#sk-container-id-1 div.sk-toggleable__content.fitted pre {\n",
       "  /* unfitted */\n",
       "  background-color: var(--sklearn-color-fitted-level-0);\n",
       "}\n",
       "\n",
       "#sk-container-id-1 input.sk-toggleable__control:checked~div.sk-toggleable__content {\n",
       "  /* Expand drop-down */\n",
       "  max-height: 200px;\n",
       "  max-width: 100%;\n",
       "  overflow: auto;\n",
       "}\n",
       "\n",
       "#sk-container-id-1 input.sk-toggleable__control:checked~label.sk-toggleable__label-arrow:before {\n",
       "  content: \"▾\";\n",
       "}\n",
       "\n",
       "/* Pipeline/ColumnTransformer-specific style */\n",
       "\n",
       "#sk-container-id-1 div.sk-label input.sk-toggleable__control:checked~label.sk-toggleable__label {\n",
       "  color: var(--sklearn-color-text);\n",
       "  background-color: var(--sklearn-color-unfitted-level-2);\n",
       "}\n",
       "\n",
       "#sk-container-id-1 div.sk-label.fitted input.sk-toggleable__control:checked~label.sk-toggleable__label {\n",
       "  background-color: var(--sklearn-color-fitted-level-2);\n",
       "}\n",
       "\n",
       "/* Estimator-specific style */\n",
       "\n",
       "/* Colorize estimator box */\n",
       "#sk-container-id-1 div.sk-estimator input.sk-toggleable__control:checked~label.sk-toggleable__label {\n",
       "  /* unfitted */\n",
       "  background-color: var(--sklearn-color-unfitted-level-2);\n",
       "}\n",
       "\n",
       "#sk-container-id-1 div.sk-estimator.fitted input.sk-toggleable__control:checked~label.sk-toggleable__label {\n",
       "  /* fitted */\n",
       "  background-color: var(--sklearn-color-fitted-level-2);\n",
       "}\n",
       "\n",
       "#sk-container-id-1 div.sk-label label.sk-toggleable__label,\n",
       "#sk-container-id-1 div.sk-label label {\n",
       "  /* The background is the default theme color */\n",
       "  color: var(--sklearn-color-text-on-default-background);\n",
       "}\n",
       "\n",
       "/* On hover, darken the color of the background */\n",
       "#sk-container-id-1 div.sk-label:hover label.sk-toggleable__label {\n",
       "  color: var(--sklearn-color-text);\n",
       "  background-color: var(--sklearn-color-unfitted-level-2);\n",
       "}\n",
       "\n",
       "/* Label box, darken color on hover, fitted */\n",
       "#sk-container-id-1 div.sk-label.fitted:hover label.sk-toggleable__label.fitted {\n",
       "  color: var(--sklearn-color-text);\n",
       "  background-color: var(--sklearn-color-fitted-level-2);\n",
       "}\n",
       "\n",
       "/* Estimator label */\n",
       "\n",
       "#sk-container-id-1 div.sk-label label {\n",
       "  font-family: monospace;\n",
       "  font-weight: bold;\n",
       "  display: inline-block;\n",
       "  line-height: 1.2em;\n",
       "}\n",
       "\n",
       "#sk-container-id-1 div.sk-label-container {\n",
       "  text-align: center;\n",
       "}\n",
       "\n",
       "/* Estimator-specific */\n",
       "#sk-container-id-1 div.sk-estimator {\n",
       "  font-family: monospace;\n",
       "  border: 1px dotted var(--sklearn-color-border-box);\n",
       "  border-radius: 0.25em;\n",
       "  box-sizing: border-box;\n",
       "  margin-bottom: 0.5em;\n",
       "  /* unfitted */\n",
       "  background-color: var(--sklearn-color-unfitted-level-0);\n",
       "}\n",
       "\n",
       "#sk-container-id-1 div.sk-estimator.fitted {\n",
       "  /* fitted */\n",
       "  background-color: var(--sklearn-color-fitted-level-0);\n",
       "}\n",
       "\n",
       "/* on hover */\n",
       "#sk-container-id-1 div.sk-estimator:hover {\n",
       "  /* unfitted */\n",
       "  background-color: var(--sklearn-color-unfitted-level-2);\n",
       "}\n",
       "\n",
       "#sk-container-id-1 div.sk-estimator.fitted:hover {\n",
       "  /* fitted */\n",
       "  background-color: var(--sklearn-color-fitted-level-2);\n",
       "}\n",
       "\n",
       "/* Specification for estimator info (e.g. \"i\" and \"?\") */\n",
       "\n",
       "/* Common style for \"i\" and \"?\" */\n",
       "\n",
       ".sk-estimator-doc-link,\n",
       "a:link.sk-estimator-doc-link,\n",
       "a:visited.sk-estimator-doc-link {\n",
       "  float: right;\n",
       "  font-size: smaller;\n",
       "  line-height: 1em;\n",
       "  font-family: monospace;\n",
       "  background-color: var(--sklearn-color-background);\n",
       "  border-radius: 1em;\n",
       "  height: 1em;\n",
       "  width: 1em;\n",
       "  text-decoration: none !important;\n",
       "  margin-left: 1ex;\n",
       "  /* unfitted */\n",
       "  border: var(--sklearn-color-unfitted-level-1) 1pt solid;\n",
       "  color: var(--sklearn-color-unfitted-level-1);\n",
       "}\n",
       "\n",
       ".sk-estimator-doc-link.fitted,\n",
       "a:link.sk-estimator-doc-link.fitted,\n",
       "a:visited.sk-estimator-doc-link.fitted {\n",
       "  /* fitted */\n",
       "  border: var(--sklearn-color-fitted-level-1) 1pt solid;\n",
       "  color: var(--sklearn-color-fitted-level-1);\n",
       "}\n",
       "\n",
       "/* On hover */\n",
       "div.sk-estimator:hover .sk-estimator-doc-link:hover,\n",
       ".sk-estimator-doc-link:hover,\n",
       "div.sk-label-container:hover .sk-estimator-doc-link:hover,\n",
       ".sk-estimator-doc-link:hover {\n",
       "  /* unfitted */\n",
       "  background-color: var(--sklearn-color-unfitted-level-3);\n",
       "  color: var(--sklearn-color-background);\n",
       "  text-decoration: none;\n",
       "}\n",
       "\n",
       "div.sk-estimator.fitted:hover .sk-estimator-doc-link.fitted:hover,\n",
       ".sk-estimator-doc-link.fitted:hover,\n",
       "div.sk-label-container:hover .sk-estimator-doc-link.fitted:hover,\n",
       ".sk-estimator-doc-link.fitted:hover {\n",
       "  /* fitted */\n",
       "  background-color: var(--sklearn-color-fitted-level-3);\n",
       "  color: var(--sklearn-color-background);\n",
       "  text-decoration: none;\n",
       "}\n",
       "\n",
       "/* Span, style for the box shown on hovering the info icon */\n",
       ".sk-estimator-doc-link span {\n",
       "  display: none;\n",
       "  z-index: 9999;\n",
       "  position: relative;\n",
       "  font-weight: normal;\n",
       "  right: .2ex;\n",
       "  padding: .5ex;\n",
       "  margin: .5ex;\n",
       "  width: min-content;\n",
       "  min-width: 20ex;\n",
       "  max-width: 50ex;\n",
       "  color: var(--sklearn-color-text);\n",
       "  box-shadow: 2pt 2pt 4pt #999;\n",
       "  /* unfitted */\n",
       "  background: var(--sklearn-color-unfitted-level-0);\n",
       "  border: .5pt solid var(--sklearn-color-unfitted-level-3);\n",
       "}\n",
       "\n",
       ".sk-estimator-doc-link.fitted span {\n",
       "  /* fitted */\n",
       "  background: var(--sklearn-color-fitted-level-0);\n",
       "  border: var(--sklearn-color-fitted-level-3);\n",
       "}\n",
       "\n",
       ".sk-estimator-doc-link:hover span {\n",
       "  display: block;\n",
       "}\n",
       "\n",
       "/* \"?\"-specific style due to the `<a>` HTML tag */\n",
       "\n",
       "#sk-container-id-1 a.estimator_doc_link {\n",
       "  float: right;\n",
       "  font-size: 1rem;\n",
       "  line-height: 1em;\n",
       "  font-family: monospace;\n",
       "  background-color: var(--sklearn-color-background);\n",
       "  border-radius: 1rem;\n",
       "  height: 1rem;\n",
       "  width: 1rem;\n",
       "  text-decoration: none;\n",
       "  /* unfitted */\n",
       "  color: var(--sklearn-color-unfitted-level-1);\n",
       "  border: var(--sklearn-color-unfitted-level-1) 1pt solid;\n",
       "}\n",
       "\n",
       "#sk-container-id-1 a.estimator_doc_link.fitted {\n",
       "  /* fitted */\n",
       "  border: var(--sklearn-color-fitted-level-1) 1pt solid;\n",
       "  color: var(--sklearn-color-fitted-level-1);\n",
       "}\n",
       "\n",
       "/* On hover */\n",
       "#sk-container-id-1 a.estimator_doc_link:hover {\n",
       "  /* unfitted */\n",
       "  background-color: var(--sklearn-color-unfitted-level-3);\n",
       "  color: var(--sklearn-color-background);\n",
       "  text-decoration: none;\n",
       "}\n",
       "\n",
       "#sk-container-id-1 a.estimator_doc_link.fitted:hover {\n",
       "  /* fitted */\n",
       "  background-color: var(--sklearn-color-fitted-level-3);\n",
       "}\n",
       "</style><div id=\"sk-container-id-1\" class=\"sk-top-container\"><div class=\"sk-text-repr-fallback\"><pre>Pipeline(steps=[(&#x27;simpleimputer&#x27;, SimpleImputer(strategy=&#x27;median&#x27;)),\n",
       "                (&#x27;standardscaler&#x27;, None),\n",
       "                (&#x27;randomforestregressor&#x27;,\n",
       "                 RandomForestRegressor(n_estimators=42, random_state=47))])</pre><b>In a Jupyter environment, please rerun this cell to show the HTML representation or trust the notebook. <br />On GitHub, the HTML representation is unable to render, please try loading this page with nbviewer.org.</b></div><div class=\"sk-container\" hidden><div class=\"sk-item sk-dashed-wrapped\"><div class=\"sk-label-container\"><div class=\"sk-label fitted sk-toggleable\"><input class=\"sk-toggleable__control sk-hidden--visually\" id=\"sk-estimator-id-1\" type=\"checkbox\" ><label for=\"sk-estimator-id-1\" class=\"sk-toggleable__label fitted sk-toggleable__label-arrow fitted\">&nbsp;&nbsp;Pipeline<a class=\"sk-estimator-doc-link fitted\" rel=\"noreferrer\" target=\"_blank\" href=\"https://scikit-learn.org/1.5/modules/generated/sklearn.pipeline.Pipeline.html\">?<span>Documentation for Pipeline</span></a><span class=\"sk-estimator-doc-link fitted\">i<span>Fitted</span></span></label><div class=\"sk-toggleable__content fitted\"><pre>Pipeline(steps=[(&#x27;simpleimputer&#x27;, SimpleImputer(strategy=&#x27;median&#x27;)),\n",
       "                (&#x27;standardscaler&#x27;, None),\n",
       "                (&#x27;randomforestregressor&#x27;,\n",
       "                 RandomForestRegressor(n_estimators=42, random_state=47))])</pre></div> </div></div><div class=\"sk-serial\"><div class=\"sk-item\"><div class=\"sk-estimator fitted sk-toggleable\"><input class=\"sk-toggleable__control sk-hidden--visually\" id=\"sk-estimator-id-2\" type=\"checkbox\" ><label for=\"sk-estimator-id-2\" class=\"sk-toggleable__label fitted sk-toggleable__label-arrow fitted\">&nbsp;SimpleImputer<a class=\"sk-estimator-doc-link fitted\" rel=\"noreferrer\" target=\"_blank\" href=\"https://scikit-learn.org/1.5/modules/generated/sklearn.impute.SimpleImputer.html\">?<span>Documentation for SimpleImputer</span></a></label><div class=\"sk-toggleable__content fitted\"><pre>SimpleImputer(strategy=&#x27;median&#x27;)</pre></div> </div></div><div class=\"sk-item\"><div class=\"sk-estimator fitted sk-toggleable\"><input class=\"sk-toggleable__control sk-hidden--visually\" id=\"sk-estimator-id-3\" type=\"checkbox\" ><label for=\"sk-estimator-id-3\" class=\"sk-toggleable__label fitted sk-toggleable__label-arrow fitted\">None</label><div class=\"sk-toggleable__content fitted\"><pre>None</pre></div> </div></div><div class=\"sk-item\"><div class=\"sk-estimator fitted sk-toggleable\"><input class=\"sk-toggleable__control sk-hidden--visually\" id=\"sk-estimator-id-4\" type=\"checkbox\" ><label for=\"sk-estimator-id-4\" class=\"sk-toggleable__label fitted sk-toggleable__label-arrow fitted\">&nbsp;RandomForestRegressor<a class=\"sk-estimator-doc-link fitted\" rel=\"noreferrer\" target=\"_blank\" href=\"https://scikit-learn.org/1.5/modules/generated/sklearn.ensemble.RandomForestRegressor.html\">?<span>Documentation for RandomForestRegressor</span></a></label><div class=\"sk-toggleable__content fitted\"><pre>RandomForestRegressor(n_estimators=42, random_state=47)</pre></div> </div></div></div></div></div></div>"
      ],
      "text/plain": [
       "Pipeline(steps=[('simpleimputer', SimpleImputer(strategy='median')),\n",
       "                ('standardscaler', None),\n",
       "                ('randomforestregressor',\n",
       "                 RandomForestRegressor(n_estimators=42, random_state=47))])"
      ]
     },
     "execution_count": 23,
     "metadata": {},
     "output_type": "execute_result"
    }
   ],
   "source": [
    "model.fit(X, y)"
   ]
  },
  {
   "cell_type": "code",
   "execution_count": 25,
   "metadata": {},
   "outputs": [],
   "source": [
    "cv_results = cross_validate(model, X, y, scoring='neg_mean_absolute_error', cv=5, n_jobs=-1)"
   ]
  },
  {
   "cell_type": "code",
   "execution_count": 27,
   "metadata": {},
   "outputs": [
    {
     "data": {
      "text/plain": [
       "array([-12.18103316,  -9.0492381 , -11.37180519,  -7.94530736,\n",
       "       -10.75875758])"
      ]
     },
     "execution_count": 27,
     "metadata": {},
     "output_type": "execute_result"
    }
   ],
   "source": [
    "cv_results['test_score']"
   ]
  },
  {
   "cell_type": "code",
   "execution_count": 29,
   "metadata": {},
   "outputs": [
    {
     "data": {
      "text/plain": [
       "(10.261228277674707, 1.5491273151362108)"
      ]
     },
     "execution_count": 29,
     "metadata": {},
     "output_type": "execute_result"
    }
   ],
   "source": [
    "mae_mean, mae_std = np.mean(-1 * cv_results['test_score']), np.std(-1 * cv_results['test_score'])\n",
    "mae_mean, mae_std"
   ]
  },
  {
   "cell_type": "markdown",
   "metadata": {},
   "source": [
    "These numbers will inevitably be different to those in the previous step that used a different training data set. They should, however, be consistent. It's important to appreciate that estimates of model performance are subject to the noise and uncertainty of data!"
   ]
  },
  {
   "cell_type": "markdown",
   "metadata": {},
   "source": [
    "## 5.7 Calculate Expected Big Mountain Ticket Price From The Model<a id='5.7_Calculate_Expected_Big_Mountain_Ticket_Price_From_The_Model'></a>"
   ]
  },
  {
   "cell_type": "code",
   "execution_count": 31,
   "metadata": {},
   "outputs": [],
   "source": [
    "X_bm = ski_data.loc[ski_data.Name == \"Big Mountain Resort\", model.X_columns]\n",
    "y_bm = ski_data.loc[ski_data.Name == \"Big Mountain Resort\", 'AdultWeekend']"
   ]
  },
  {
   "cell_type": "code",
   "execution_count": 33,
   "metadata": {},
   "outputs": [],
   "source": [
    "bm_pred = model.predict(X_bm).item()"
   ]
  },
  {
   "cell_type": "code",
   "execution_count": 35,
   "metadata": {},
   "outputs": [],
   "source": [
    "y_bm = y_bm.values.item()"
   ]
  },
  {
   "cell_type": "code",
   "execution_count": 45,
   "metadata": {},
   "outputs": [
    {
     "name": "stdout",
     "output_type": "stream",
     "text": [
      "Big Mountain Resort modelled price is $99.83, actual price is $81.00.\n",
      "Even with the expected mean absolute error of $10.26, this suggests there is room for an increase.\n"
     ]
    }
   ],
   "source": [
    "print(f'Big Mountain Resort modelled price is ${bm_pred:.2f}, actual price is ${y_bm:.2f}.')\n",
    "print(f'Even with the expected mean absolute error of ${mae_mean:.2f}, this suggests there is room for an increase.')"
   ]
  },
  {
   "cell_type": "markdown",
   "metadata": {},
   "source": [
    "This result should be looked at optimistically and doubtfully! The validity of our model lies in the assumption that other resorts accurately set their prices according to what the market (the ticket-buying public) supports. The fact that our resort seems to be charging that much less that what's predicted suggests our resort might be undercharging. \n",
    "But if ours is mispricing itself, are others? It's reasonable to expect that some resorts will be \"overpriced\" and some \"underpriced.\" Or if resorts are pretty good at pricing strategies, it could be that our model is simply lacking some key data? Certainly we know nothing about operating costs, for example, and they would surely help."
   ]
  },
  {
   "cell_type": "markdown",
   "metadata": {},
   "source": [
    "## 5.8 Big Mountain Resort In Market Context<a id='5.8_Big_Mountain_Resort_In_Market_Context'></a>"
   ]
  },
  {
   "cell_type": "markdown",
   "metadata": {},
   "source": [
    "Features that came up as important in the modeling (not just our final, random forest model) included:\n",
    "* vertical_drop\n",
    "* Snow Making_ac\n",
    "* total_chairs\n",
    "* fastQuads\n",
    "* Runs\n",
    "* LongestRun_mi\n",
    "* trams\n",
    "* SkiableTerrain_ac"
   ]
  },
  {
   "cell_type": "markdown",
   "metadata": {},
   "source": [
    "A handy glossary of skiing terms can be found on the [ski.com](https://www.ski.com/ski-glossary) site. Some potentially relevant contextual information is that vertical drop, although nominally the height difference from the summit to the base, is generally taken from the highest [_lift-served_](http://verticalfeet.com/) point."
   ]
  },
  {
   "cell_type": "markdown",
   "metadata": {},
   "source": [
    "It's often useful to define custom functions for visualizing data in meaningful ways. The function below takes a feature name as an input and plots a histogram of the values of that feature. It then marks where Big Mountain sits in the distribution by marking Big Mountain's value with a vertical line using `matplotlib`'s [axvline](https://matplotlib.org/3.1.1/api/_as_gen/matplotlib.pyplot.axvline.html) function. It also performs a little cleaning up of missing values and adds descriptive labels and a title."
   ]
  },
  {
   "cell_type": "code",
   "execution_count": 49,
   "metadata": {},
   "outputs": [],
   "source": [
    "#Code task 1#\n",
    "#Add code to the `plot_compare` function that displays a vertical, dashed line\n",
    "#on the histogram to indicate Big Mountain's position in the distribution\n",
    "#Hint: plt.axvline() plots a vertical line, its position for 'feature1'\n",
    "#would be `big_mountain['feature1'].values, we'd like a red line, which can be\n",
    "#specified with c='r', a dashed linestyle is produced by ls='--',\n",
    "#and it's nice to give it a slightly reduced alpha value, such as 0.8.\n",
    "#Don't forget to give it a useful label (e.g. 'Big Mountain') so it's listed\n",
    "#in the legend.\n",
    "def plot_compare(feat_name, description, state=None, figsize=(10, 5)):\n",
    "    \"\"\"Graphically compare distributions of features.\n",
    "    \n",
    "    Plot histogram of values for all resorts and reference line to mark\n",
    "    Big Mountain's position.\n",
    "    \n",
    "    Arguments:\n",
    "    feat_name - the feature column name in the data\n",
    "    description - text description of the feature\n",
    "    state - select a specific state (None for all states)\n",
    "    figsize - (optional) figure size\n",
    "    \"\"\"\n",
    "    \n",
    "    plt.subplots(figsize=figsize)\n",
    "    # quirk that hist sometimes objects to NaNs, sometimes doesn't\n",
    "    # filtering only for finite values tidies this up\n",
    "    if state is None:\n",
    "        ski_x = ski_data[feat_name]\n",
    "    else:\n",
    "        ski_x = ski_data.loc[ski_data.state == state, feat_name]\n",
    "    ski_x = ski_x[np.isfinite(ski_x)]\n",
    "    plt.hist(ski_x, bins=30)\n",
    "    plt.axvline(x=big_mountain[feat_name].values, c='r', ls='--', alpha=0.8, label='Big Mountain')\n",
    "    plt.xlabel(description)\n",
    "    plt.ylabel('frequency')\n",
    "    plt.title(description + ' distribution for resorts in market share')\n",
    "    plt.legend()\n",
    "    "
   ]
  },
  {
   "cell_type": "markdown",
   "metadata": {},
   "source": [
    "### 5.8.1 Ticket price<a id='5.8.1_Ticket_price'></a>"
   ]
  },
  {
   "cell_type": "markdown",
   "metadata": {},
   "source": [
    "Look at where Big Mountain sits overall amongst all resorts for price and for just other resorts in Montana."
   ]
  },
  {
   "cell_type": "code",
   "execution_count": 51,
   "metadata": {},
   "outputs": [
    {
     "data": {
      "image/png": "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",
      "text/plain": [
       "<Figure size 1000x500 with 1 Axes>"
      ]
     },
     "metadata": {},
     "output_type": "display_data"
    }
   ],
   "source": [
    "plot_compare('AdultWeekend', 'Adult weekend ticket price ($)')"
   ]
  },
  {
   "cell_type": "code",
   "execution_count": 53,
   "metadata": {},
   "outputs": [
    {
     "data": {
      "image/png": "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",
      "text/plain": [
       "<Figure size 1000x500 with 1 Axes>"
      ]
     },
     "metadata": {},
     "output_type": "display_data"
    }
   ],
   "source": [
    "plot_compare('AdultWeekend', 'Adult weekend ticket price ($) - Montana only', state='Montana')"
   ]
  },
  {
   "cell_type": "markdown",
   "metadata": {},
   "source": [
    "### 5.8.2 Vertical drop<a id='5.8.2_Vertical_drop'></a>"
   ]
  },
  {
   "cell_type": "code",
   "execution_count": 55,
   "metadata": {},
   "outputs": [
    {
     "data": {
      "image/png": "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",
      "text/plain": [
       "<Figure size 1000x500 with 1 Axes>"
      ]
     },
     "metadata": {},
     "output_type": "display_data"
    }
   ],
   "source": [
    "plot_compare('vertical_drop', 'Vertical drop (feet)')"
   ]
  },
  {
   "cell_type": "markdown",
   "metadata": {},
   "source": [
    "Big Mountain is doing well for vertical drop, but there are still quite a few resorts with a greater drop."
   ]
  },
  {
   "cell_type": "markdown",
   "metadata": {},
   "source": [
    "### 5.8.3 Snow making area<a id='5.8.3_Snow_making_area'></a>"
   ]
  },
  {
   "cell_type": "code",
   "execution_count": 57,
   "metadata": {},
   "outputs": [
    {
     "data": {
      "image/png": "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",
      "text/plain": [
       "<Figure size 1000x500 with 1 Axes>"
      ]
     },
     "metadata": {},
     "output_type": "display_data"
    }
   ],
   "source": [
    "plot_compare('Snow Making_ac', 'Area covered by snow makers (acres)')"
   ]
  },
  {
   "cell_type": "markdown",
   "metadata": {},
   "source": [
    "Big Mountain is very high up the league table of snow making area."
   ]
  },
  {
   "cell_type": "markdown",
   "metadata": {},
   "source": [
    "### 5.8.4 Total number of chairs<a id='5.8.4_Total_number_of_chairs'></a>"
   ]
  },
  {
   "cell_type": "code",
   "execution_count": 59,
   "metadata": {},
   "outputs": [
    {
     "data": {
      "image/png": "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",
      "text/plain": [
       "<Figure size 1000x500 with 1 Axes>"
      ]
     },
     "metadata": {},
     "output_type": "display_data"
    }
   ],
   "source": [
    "plot_compare('total_chairs', 'Total number of chairs')"
   ]
  },
  {
   "cell_type": "markdown",
   "metadata": {},
   "source": [
    "Big Mountain has amongst the highest number of total chairs, resorts with more appear to be outliers."
   ]
  },
  {
   "cell_type": "markdown",
   "metadata": {},
   "source": [
    "### 5.8.5 Fast quads<a id='5.8.5_Fast_quads'></a>"
   ]
  },
  {
   "cell_type": "code",
   "execution_count": 61,
   "metadata": {},
   "outputs": [
    {
     "data": {
      "image/png": "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
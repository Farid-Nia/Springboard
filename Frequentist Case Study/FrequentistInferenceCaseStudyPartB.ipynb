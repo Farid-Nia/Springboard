{
 "cells": [
  {
   "cell_type": "markdown",
   "metadata": {},
   "source": [
    "# Frequentist Inference Case Study - Part B"
   ]
  },
  {
   "cell_type": "markdown",
   "metadata": {},
   "source": [
    "## Learning objectives"
   ]
  },
  {
   "cell_type": "markdown",
   "metadata": {},
   "source": [
    "Welcome to Part B of the Frequentist inference case study! The purpose of this case study is to help you apply the concepts associated with Frequentist inference in Python. In particular, you'll practice writing Python code to apply the following statistical concepts: \n",
    "* the _z_-statistic\n",
    "* the _t_-statistic\n",
    "* the difference and relationship between the two\n",
    "* the Central Limit Theorem, including its assumptions and consequences\n",
    "* how to estimate the population mean and standard deviation from a sample\n",
    "* the concept of a sampling distribution of a test statistic, particularly for the mean\n",
    "* how to combine these concepts to calculate a confidence interval"
   ]
  },
  {
   "cell_type": "markdown",
   "metadata": {},
   "source": [
    "In the previous notebook, we used only data from a known normal distribution. **You'll now tackle real data, rather than simulated data, and answer some relevant real-world business problems using the data.**"
   ]
  },
  {
   "cell_type": "markdown",
   "metadata": {},
   "source": [
    "## Hospital medical charges"
   ]
  },
  {
   "cell_type": "markdown",
   "metadata": {},
   "source": [
    "Imagine that a hospital has hired you as their data scientist. An administrator is working on the hospital's business operations plan and needs you to help them answer some business questions. \n",
    "\n",
    "In this assignment notebook, you're going to use frequentist statistical inference on a data sample to answer the questions:\n",
    "* has the hospital's revenue stream fallen below a key threshold?\n",
    "* are patients with insurance really charged different amounts than those without?\n",
    "\n",
    "Answering that last question with a frequentist approach makes some assumptions, and requires some knowledge, about the two groups."
   ]
  },
  {
   "cell_type": "markdown",
   "metadata": {},
   "source": [
    "We are going to use some data on medical charges obtained from [Kaggle](https://www.kaggle.com/easonlai/sample-insurance-claim-prediction-dataset). \n",
    "\n",
    "For the purposes of this exercise, assume the observations are the result of random sampling from our single hospital. Recall that in the previous assignment, we introduced the Central Limit Theorem (CLT), and its consequence that the distributions of sample statistics approach a normal distribution as $n$ increases. The amazing thing about this is that it applies to the sampling distributions of statistics that have been calculated from even highly non-normal distributions of data! Recall, also, that hypothesis testing is very much based on making inferences about such sample statistics. You're going to rely heavily on the CLT to apply frequentist (parametric) tests to answer the questions in this notebook."
   ]
  },
  {
   "cell_type": "code",
   "execution_count": 1,
   "metadata": {},
   "outputs": [],
   "source": [
    "import pandas as pd\n",
    "import numpy as np\n",
    "import matplotlib.pyplot as plt\n",
    "from scipy.stats import t\n",
    "from scipy.stats import norm\n",
    "from numpy.random import seed\n",
    "medical = pd.read_csv('insurance2.csv')"
   ]
  },
  {
   "cell_type": "code",
   "execution_count": 2,
   "metadata": {},
   "outputs": [
    {
     "data": {
      "text/plain": [
       "(1338, 8)"
      ]
     },
     "execution_count": 2,
     "metadata": {},
     "output_type": "execute_result"
    }
   ],
   "source": [
    "medical.shape"
   ]
  },
  {
   "cell_type": "code",
   "execution_count": 3,
   "metadata": {},
   "outputs": [
    {
     "data": {
      "text/html": [
       "<div>\n",
       "<style scoped>\n",
       "    .dataframe tbody tr th:only-of-type {\n",
       "        vertical-align: middle;\n",
       "    }\n",
       "\n",
       "    .dataframe tbody tr th {\n",
       "        vertical-align: top;\n",
       "    }\n",
       "\n",
       "    .dataframe thead th {\n",
       "        text-align: right;\n",
       "    }\n",
       "</style>\n",
       "<table border=\"1\" class=\"dataframe\">\n",
       "  <thead>\n",
       "    <tr style=\"text-align: right;\">\n",
       "      <th></th>\n",
       "      <th>age</th>\n",
       "      <th>sex</th>\n",
       "      <th>bmi</th>\n",
       "      <th>children</th>\n",
       "      <th>smoker</th>\n",
       "      <th>region</th>\n",
       "      <th>charges</th>\n",
       "      <th>insuranceclaim</th>\n",
       "    </tr>\n",
       "  </thead>\n",
       "  <tbody>\n",
       "    <tr>\n",
       "      <th>0</th>\n",
       "      <td>19</td>\n",
       "      <td>0</td>\n",
       "      <td>27.900</td>\n",
       "      <td>0</td>\n",
       "      <td>1</td>\n",
       "      <td>3</td>\n",
       "      <td>16884.92400</td>\n",
       "      <td>1</td>\n",
       "    </tr>\n",
       "    <tr>\n",
       "      <th>1</th>\n",
       "      <td>18</td>\n",
       "      <td>1</td>\n",
       "      <td>33.770</td>\n",
       "      <td>1</td>\n",
       "      <td>0</td>\n",
       "      <td>2</td>\n",
       "      <td>1725.55230</td>\n",
       "      <td>1</td>\n",
       "    </tr>\n",
       "    <tr>\n",
       "      <th>2</th>\n",
       "      <td>28</td>\n",
       "      <td>1</td>\n",
       "      <td>33.000</td>\n",
       "      <td>3</td>\n",
       "      <td>0</td>\n",
       "      <td>2</td>\n",
       "      <td>4449.46200</td>\n",
       "      <td>0</td>\n",
       "    </tr>\n",
       "    <tr>\n",
       "      <th>3</th>\n",
       "      <td>33</td>\n",
       "      <td>1</td>\n",
       "      <td>22.705</td>\n",
       "      <td>0</td>\n",
       "      <td>0</td>\n",
       "      <td>1</td>\n",
       "      <td>21984.47061</td>\n",
       "      <td>0</td>\n",
       "    </tr>\n",
       "    <tr>\n",
       "      <th>4</th>\n",
       "      <td>32</td>\n",
       "      <td>1</td>\n",
       "      <td>28.880</td>\n",
       "      <td>0</td>\n",
       "      <td>0</td>\n",
       "      <td>1</td>\n",
       "      <td>3866.85520</td>\n",
       "      <td>1</td>\n",
       "    </tr>\n",
       "  </tbody>\n",
       "</table>\n",
       "</div>"
      ],
      "text/plain": [
       "   age  sex     bmi  children  smoker  region      charges  insuranceclaim\n",
       "0   19    0  27.900         0       1       3  16884.92400               1\n",
       "1   18    1  33.770         1       0       2   1725.55230               1\n",
       "2   28    1  33.000         3       0       2   4449.46200               0\n",
       "3   33    1  22.705         0       0       1  21984.47061               0\n",
       "4   32    1  28.880         0       0       1   3866.85520               1"
      ]
     },
     "execution_count": 3,
     "metadata": {},
     "output_type": "execute_result"
    }
   ],
   "source": [
    "medical.head()"
   ]
  },
  {
   "cell_type": "markdown",
   "metadata": {},
   "source": [
    "__Q1:__ Plot the histogram of charges and calculate the mean and standard deviation. Comment on the appropriateness of these statistics for the data."
   ]
  },
  {
   "cell_type": "markdown",
   "metadata": {},
   "source": [
    "__A:__"
   ]
  },
  {
   "cell_type": "code",
   "execution_count": 9,
   "metadata": {},
   "outputs": [
    {
     "data": {
      "image/png": "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",
      "text/plain": [
       "<Figure size 640x480 with 1 Axes>"
      ]
     },
     "metadata": {},
     "output_type": "display_data"
    }
   ],
   "source": [
    "plt.hist(medical['charges'], bins = 30)\n",
    "plt.xlabel('Charges')\n",
    "plt.show()"
   ]
  },
  {
   "cell_type": "code",
   "execution_count": 11,
   "metadata": {},
   "outputs": [
    {
     "name": "stdout",
     "output_type": "stream",
     "text": [
      "13270.422265141257\n",
      "12110.011236693994\n"
     ]
    }
   ],
   "source": [
    "observedMean = medical.charges.mean()\n",
    "print(observedMean)\n",
    "observedStd = medical.charges.std()\n",
    "print(observedStd)"
   ]
  },
  {
   "cell_type": "markdown",
   "metadata": {},
   "source": [
    "Based on the mean and standard deviation, clearly, this is not a normal distribution. "
   ]
  },
  {
   "cell_type": "markdown",
   "metadata": {},
   "source": [
    "__Q2:__ The administrator is concerned that the actual average charge has fallen below 12,000, threatening the hospital's operational model. On the assumption that these data represent a random sample of charges, how would you justify that these data allow you to answer that question? And what would be the most appropriate frequentist test, of the ones discussed so far, to apply?"
   ]
  },
  {
   "cell_type": "markdown",
   "metadata": {},
   "source": [
    "__A:__ As the sample size is large, we can do a z-test on the random sample. Consider that by the Central Limit Theorem the distribution of the sample mean approaches a normal distribution regardless of the distribution of the data.  "
   ]
  },
  {
   "cell_type": "markdown",
   "metadata": {},
   "source": [
    "__Q3:__ Given the nature of the administrator's concern, what is the appropriate confidence interval in this case? A ***one-sided*** or ***two-sided*** interval? (Refresh your understanding of this concept on p. 399 of the *AoS*). Calculate the critical value and the relevant 95% confidence interval for the mean, and comment on whether the administrator should be concerned."
   ]
  },
  {
   "cell_type": "markdown",
   "metadata": {},
   "source": [
    "__A:__"
   ]
  },
  {
   "cell_type": "markdown",
   "metadata": {},
   "source": [
    "The main concern for the administration is that the actual average charge has fallen below 12,000, threatening the hospital's operational model; it is better to check one-sided intervals with 95% confidence interval for the mean. "
   ]
  },
  {
   "cell_type": "markdown",
   "metadata": {},
   "source": [
    "Let $H_0: mean = 1200$ and $H_1: mean < 1200$. Then if $P(sampleMean \\leq observedMean)= observedSignificanceLevel$.\n",
    "\n",
    "$$P(\\frac{sampleMean - mean}{\\frac{observedStd}{\\sqrt{sampleSize}}} \\leq \\frac{observedMean - mean}{\\frac{observedStd}{\\sqrt{sampleSize}}})=P(Z \\leq \\frac{observedMean - mean}{\\frac{observedStd}{\\sqrt{sampleSize}}}))=observedSignificanceLevel,$$ where $Z\\sim N(0,1)$."
   ]
  },
  {
   "cell_type": "code",
   "execution_count": 31,
   "metadata": {},
   "outputs": [
    {
     "data": {
      "text/plain": [
       "0.00302053248352969"
      ]
     },
     "execution_count": 31,
     "metadata": {},
     "output_type": "execute_result"
    }
   ],
   "source": [
    "mean = 1200\n",
    "sampleSize = len(medical['charges'])\n",
    "\n",
    "observedSignificanceLevel = float(norm.cdf(observedMean - mean)/(observedStd/np.sqrt(sampleSize)))\n",
    "observedSignificanceLevel"
   ]
  },
  {
   "cell_type": "markdown",
   "metadata": {},
   "source": [
    "The administration should not be concerned as the observedSignificanceLevel is much smaller than 0.05. "
   ]
  },
  {
   "cell_type": "markdown",
   "metadata": {},
   "source": [
    "The administrator then wants to know whether people with insurance really are charged a different amount to those without.\n",
    "\n",
    "__Q4:__ State the null and alternative hypothesis here. Use the _t_-test for the difference between means, where the pooled standard deviation of the two groups is given by:\n",
    "\\begin{equation}\n",
    "s_p = \\sqrt{\\frac{(n_0 - 1)s^2_0 + (n_1 - 1)s^2_1}{n_0 + n_1 - 2}}\n",
    "\\end{equation}\n",
    "\n",
    "and the *t*-test statistic is then given by:\n",
    "\n",
    "\\begin{equation}\n",
    "t = \\frac{\\bar{x}_0 - \\bar{x}_1}{s_p \\sqrt{1/n_0 + 1/n_1}}.\n",
    "\\end{equation}\n",
    "\n",
    "(If you need some reminding of the general definition of ***t-statistic***, check out the definition on p. 404 of *AoS*). \n",
    "\n",
    "What assumption about the variances of the two groups are we making here?"
   ]
  },
  {
   "cell_type": "markdown",
   "metadata": {},
   "source": [
    "__A:__ The assumption here is that the two groups have different variances. "
   ]
  },
  {
   "cell_type": "markdown",
   "metadata": {},
   "source": [
    "__Q5:__ Perform this hypothesis test both manually, using the above formulae, and then using the appropriate function from [scipy.stats](https://docs.scipy.org/doc/scipy/reference/stats.html#statistical-tests) (hint, you're looking for a function to perform a _t_-test on two independent samples). For the manual approach, calculate the value of the test statistic and then its probability (the p-value). Verify you get the same results from both."
   ]
  },
  {
   "cell_type": "markdown",
   "metadata": {},
   "source": [
    "__A:__ "
   ]
  },
  {
   "cell_type": "code",
   "execution_count": 33,
   "metadata": {},
   "outputs": [
    {
     "data": {
      "text/plain": [
       "(11.893299030876715, 0.0)"
      ]
     },
     "execution_count": 33,
     "metadata": {},
     "output_type": "execute_result"
    }
   ],
   "source": [
    "chargesWithInsurance = medical[medical.insuranceclaim > 0].charges \n",
    "chargesNoInsurance = medical[medical.insuranceclaim == 0].charges \n",
    "\n",
    "s_0 = chargesWithInsurance.std() \n",
    "s_1 = chargesNoInsurance.std()\n",
    "x_avg_0 = chargesWithInsurance.mean() \n",
    "x_avg_1 = chargesNoInsurance.mean()\n",
    "n_0 = len(chargesWithInsurance)\n",
    "n_1 = len(chargesNoInsurance)\n",
    "\n",
    "s_p = np.sqrt( ((n_0-1)* s_0**2  + (n_1-1) * s_1**2 )/(n_0+n_1-2))\n",
    "\n",
    "t_stat = (x_avg_0 - x_avg_1)/ (s_p* np.sqrt(1/n_0 + 1/n_1)) \n",
    "\n",
    "\n",
    "p_value = 1 - stats.t.cdf(t_stat, n_0+n_1-2)\n",
    "\n",
    "t_stat, p_value "
   ]
  },
  {
   "cell_type": "code",
   "execution_count": 43,
   "metadata": {},
   "outputs": [
    {
     "data": {
      "text/plain": [
       "(11.893299030876712, 4.461230231620717e-31)"
      ]
     },
     "execution_count": 43,
     "metadata": {},
     "output_type": "execute_result"
    }
   ],
   "source": [
    "import scipy.stats as stats\n",
    "t_stats, p_value_s =stats.ttest_ind(chargesWithInsurance, chargesNoInsurance, equal_var=True)\n",
    "t_stats, p_value_s"
   ]
  },
  {
   "cell_type": "code",
   "execution_count": null,
   "metadata": {},
   "outputs": [],
   "source": []
  },
  {
   "cell_type": "code",
   "execution_count": null,
   "metadata": {},
   "outputs": [],
   "source": []
  },
  {
   "cell_type": "markdown",
   "metadata": {},
   "source": [
    "Congratulations! Hopefully you got the exact same numerical results. This shows that you correctly calculated the numbers by hand. Secondly, you used the correct function and saw that it's much easier to use. All you need to do is pass your data to it."
   ]
  },
  {
   "cell_type": "markdown",
   "metadata": {},
   "source": [
    "__Q6:__ Conceptual question: look through the documentation for statistical test functions in scipy.stats. You'll see the above _t_-test for a sample, but can you see an equivalent one for performing a *z*-test from a sample? Comment on your answer."
   ]
  },
  {
   "cell_type": "markdown",
   "metadata": {},
   "source": [
    "__A:__ ``scipy.stats`` does not have an equivalent one for performing z-test, however, we can use the distribution function ``norm.cdf``to calculate the z-score and p-value. "
   ]
  },
  {
   "cell_type": "markdown",
   "metadata": {},
   "source": [
    "## Learning outcomes"
   ]
  },
  {
   "cell_type": "markdown",
   "metadata": {},
   "source": [
    "Having completed this project notebook, you now have good hands-on experience:\n",
    "* using the central limit theorem to help you apply frequentist techniques to answer questions that pertain to very non-normally distributed data from the real world\n",
    "* performing inference using such data to answer business questions\n",
    "* forming a hypothesis and framing the null and alternative hypotheses\n",
    "* testing this using a _t_-test"
   ]
  }
 ],
 "metadata": {
  "kernelspec": {
   "display_name": "Python 3 (ipykernel)",
   "language": "python",
   "name": "python3"
  },
  "language_info": {
   "codemirror_mode": {
    "name": "ipython",
    "version": 3
   },
   "file_extension": ".py",
   "mimetype": "text/x-python
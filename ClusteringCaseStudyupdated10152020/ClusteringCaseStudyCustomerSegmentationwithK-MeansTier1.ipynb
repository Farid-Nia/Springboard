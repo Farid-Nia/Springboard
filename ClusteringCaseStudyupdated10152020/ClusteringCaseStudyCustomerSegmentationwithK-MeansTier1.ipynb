{
 "cells": [
  {
   "cell_type": "markdown",
   "metadata": {},
   "source": [
    "# Clustering Case Study: Customer Segmentation with K-Means - Tier 1\n",
    "***\n",
    "This case study is based on [this blog post](http://blog.yhat.com/posts/customer-segmentation-using-python.html) by the `yhat` blog. Please feel free to refer to the post for additional information, and solutions.\n",
    "\n",
    "Structure of the mini-project:\n",
    "\n",
    "1. **Sourcing and loading**\n",
    "    * Load the data\n",
    "    * Explore the data\n",
    "\n",
    "\n",
    "2. **Cleaning, transforming and visualizing**\n",
    "    * Data Wrangling: Exercise Set 1\n",
    "        - Creating a matrix with a binary indicator for whether they responded to a given offer\n",
    "        - Ensure that in doing so, NAN values are dealt with appropriately\n",
    "    \n",
    "\n",
    "3. **Modelling** \n",
    "    * K-Means clustering: Exercise Sets 2 and 3\n",
    "        - Choosing K: The Elbow method\n",
    "        - Choosing K: The Silhouette method\n",
    "        - Choosing K: The Gap statistic method\n",
    "    \n",
    "    * Visualizing clusters with PCA: Exercise Sets 4 and 5\n",
    "\n",
    "\n",
    "4. **Conclusions and next steps**\n",
    "    * Conclusions\n",
    "    * Other clustering algorithms (Exercise Set 6)"
   ]
  },
  {
   "cell_type": "code",
   "execution_count": 13,
   "metadata": {},
   "outputs": [],
   "source": [
    "%matplotlib inline\n",
    "import pandas as pd\n",
    "import sklearn\n",
    "import matplotlib.pyplot as plt\n",
    "import seaborn as sns\n",
    "\n",
    "# Setup Seaborn\n",
    "sns.set_style(\"whitegrid\")\n",
    "sns.set_context(\"poster\")"
   ]
  },
  {
   "cell_type": "markdown",
   "metadata": {},
   "source": [
    "## 1. Sourcing and loading\n",
    "### 1a. Load the data\n",
    "The dataset contains information on marketing newsletters/e-mail campaigns (e-mail offers sent to customers) and transaction level data from customers. The transactional data shows which offer customers responded to, and what the customer ended up buying. The data is presented as an Excel workbook containing two worksheets. Each worksheet contains a different dataset."
   ]
  },
  {
   "cell_type": "code",
   "execution_count": 15,
   "metadata": {},
   "outputs": [
    {
     "name": "stderr",
     "output_type": "stream",
     "text": [
      "/opt/anaconda3/lib/python3.12/site-packages/openpyxl/worksheet/_read_only.py:85: UserWarning: Unknown extension is not supported and will be removed\n",
      "  for idx, row in parser.parse():\n"
     ]
    }
   ],
   "source": [
    "df_offers = pd.read_excel(\"WineKMC.xlsx\", sheet_name=0)"
   ]
  },
  {
   "cell_type": "markdown",
   "metadata": {},
   "source": [
    "### 1b. Explore the data"
   ]
  },
  {
   "cell_type": "code",
   "execution_count": 17,
   "metadata": {},
   "outputs": [
    {
     "data": {
      "text/html": [
       "<div>\n",
       "<style scoped>\n",
       "    .dataframe tbody tr th:only-of-type {\n",
       "        vertical-align: middle;\n",
       "    }\n",
       "\n",
       "    .dataframe tbody tr th {\n",
       "        vertical-align: top;\n",
       "    }\n",
       "\n",
       "    .dataframe thead th {\n",
       "        text-align: right;\n",
       "    }\n",
       "</style>\n",
       "<table border=\"1\" class=\"dataframe\">\n",
       "  <thead>\n",
       "    <tr style=\"text-align: right;\">\n",
       "      <th></th>\n",
       "      <th>offer_id</th>\n",
       "      <th>campaign</th>\n",
       "      <th>varietal</th>\n",
       "      <th>min_qty</th>\n",
       "      <th>discount</th>\n",
       "      <th>origin</th>\n",
       "      <th>past_peak</th>\n",
       "    </tr>\n",
       "  </thead>\n",
       "  <tbody>\n",
       "    <tr>\n",
       "      <th>0</th>\n",
       "      <td>1</td>\n",
       "      <td>January</td>\n",
       "      <td>Malbec</td>\n",
       "      <td>72</td>\n",
       "      <td>56</td>\n",
       "      <td>France</td>\n",
       "      <td>False</td>\n",
       "    </tr>\n",
       "    <tr>\n",
       "      <th>1</th>\n",
       "      <td>2</td>\n",
       "      <td>January</td>\n",
       "      <td>Pinot Noir</td>\n",
       "      <td>72</td>\n",
       "      <td>17</td>\n",
       "      <td>France</td>\n",
       "      <td>False</td>\n",
       "    </tr>\n",
       "    <tr>\n",
       "      <th>2</th>\n",
       "      <td>3</td>\n",
       "      <td>February</td>\n",
       "      <td>Espumante</td>\n",
       "      <td>144</td>\n",
       "      <td>32</td>\n",
       "      <td>Oregon</td>\n",
       "      <td>True</td>\n",
       "    </tr>\n",
       "    <tr>\n",
       "      <th>3</th>\n",
       "      <td>4</td>\n",
       "      <td>February</td>\n",
       "      <td>Champagne</td>\n",
       "      <td>72</td>\n",
       "      <td>48</td>\n",
       "      <td>France</td>\n",
       "      <td>True</td>\n",
       "    </tr>\n",
       "    <tr>\n",
       "      <th>4</th>\n",
       "      <td>5</td>\n",
       "      <td>February</td>\n",
       "      <td>Cabernet Sauvignon</td>\n",
       "      <td>144</td>\n",
       "      <td>44</td>\n",
       "      <td>New Zealand</td>\n",
       "      <td>True</td>\n",
       "    </tr>\n",
       "  </tbody>\n",
       "</table>\n",
       "</div>"
      ],
      "text/plain": [
       "   offer_id  campaign            varietal  min_qty  discount       origin  \\\n",
       "0         1   January              Malbec       72        56       France   \n",
       "1         2   January          Pinot Noir       72        17       France   \n",
       "2         3  February           Espumante      144        32       Oregon   \n",
       "3         4  February           Champagne       72        48       France   \n",
       "4         5  February  Cabernet Sauvignon      144        44  New Zealand   \n",
       "\n",
       "   past_peak  \n",
       "0      False  \n",
       "1      False  \n",
       "2       True  \n",
       "3       True  \n",
       "4       True  "
      ]
     },
     "execution_count": 17,
     "metadata": {},
     "output_type": "execute_result"
    }
   ],
   "source": [
    "df_offers.columns = [\"offer_id\", \"campaign\", \"varietal\", \"min_qty\", \"discount\", \"origin\", \"past_peak\"]\n",
    "df_offers.head()"
   ]
  },
  {
   "cell_type": "markdown",
   "metadata": {},
   "source": [
    "We see that the first dataset contains information about each offer such as the month it is in effect and several attributes about the wine that the offer refers to: the variety, minimum quantity, discount, country of origin and whether or not it is past peak. The second dataset in the second worksheet contains transactional data -- which offer each customer responded to."
   ]
  },
  {
   "cell_type": "code",
   "execution_count": 19,
   "metadata": {},
   "outputs": [
    {
     "name": "stderr",
     "output_type": "stream",
     "text": [
      "/opt/anaconda3/lib/python3.12/site-packages/openpyxl/worksheet/_read_only.py:85: UserWarning: Unknown extension is not supported and will be removed\n",
      "  for idx, row in parser.parse():\n"
     ]
    },
    {
     "data": {
      "text/html": [
       "<div>\n",
       "<style scoped>\n",
       "    .dataframe tbody tr th:only-of-type {\n",
       "        vertical-align: middle;\n",
       "    }\n",
       "\n",
       "    .dataframe tbody tr th {\n",
       "        vertical-align: top;\n",
       "    }\n",
       "\n",
       "    .dataframe thead th {\n",
       "        text-align: right;\n",
       "    }\n",
       "</style>\n",
       "<table border=\"1\" class=\"dataframe\">\n",
       "  <thead>\n",
       "    <tr style=\"text-align: right;\">\n",
       "      <th></th>\n",
       "      <th>customer_name</th>\n",
       "      <th>offer_id</th>\n",
       "      <th>n</th>\n",
       "    </tr>\n",
       "  </thead>\n",
       "  <tbody>\n",
       "    <tr>\n",
       "      <th>0</th>\n",
       "      <td>Smith</td>\n",
       "      <td>2</td>\n",
       "      <td>1</td>\n",
       "    </tr>\n",
       "    <tr>\n",
       "      <th>1</th>\n",
       "      <td>Smith</td>\n",
       "      <td>24</td>\n",
       "      <td>1</td>\n",
       "    </tr>\n",
       "    <tr>\n",
       "      <th>2</th>\n",
       "      <td>Johnson</td>\n",
       "      <td>17</td>\n",
       "      <td>1</td>\n",
       "    </tr>\n",
       "    <tr>\n",
       "      <th>3</th>\n",
       "      <td>Johnson</td>\n",
       "      <td>24</td>\n",
       "      <td>1</td>\n",
       "    </tr>\n",
       "    <tr>\n",
       "      <th>4</th>\n",
       "      <td>Johnson</td>\n",
       "      <td>26</td>\n",
       "      <td>1</td>\n",
       "    </tr>\n",
       "  </tbody>\n",
       "</table>\n",
       "</div>"
      ],
      "text/plain": [
       "  customer_name  offer_id  n\n",
       "0         Smith         2  1\n",
       "1         Smith        24  1\n",
       "2       Johnson        17  1\n",
       "3       Johnson        24  1\n",
       "4       Johnson        26  1"
      ]
     },
     "execution_count": 19,
     "metadata": {},
     "output_type": "execute_result"
    }
   ],
   "source": [
    "df_transactions = pd.read_excel(\"WineKMC.xlsx\", sheet_name=1)\n",
    "df_transactions.columns = [\"customer_name\", \"offer_id\"]\n",
    "df_transactions['n'] = 1\n",
    "df_transactions.head()"
   ]
  },
  {
   "cell_type": "markdown",
   "metadata": {},
   "source": [
    "## 2. Cleaning, transforming and visualizing\n",
    "### 2a. Data Wrangling"
   ]
  },
  {
   "cell_type": "markdown",
   "metadata": {},
   "source": [
    "We're trying to learn more about how our customers behave, so we can use their behavior (whether or not they purchased something based on an offer) as a way to group similar minded customers together. We can then study those groups to look for patterns and trends which can help us formulate future offers.\n",
    "\n",
    "The first thing we need is a way to compare customers. To do this, we're going to create a matrix that contains each customer and a 0/1 indicator for whether or not they responded to a given offer. "
   ]
  },
  {
   "cell_type": "markdown",
   "metadata": {},
   "source": [
    "<div class=\"span5 alert alert-info\">\n",
    "<h3>Checkup Exercise Set I</h3>\n",
    "\n",
    "<p><b>Exercise:</b> Create a data frame where each row has the following columns (Use the pandas [`merge`](http://pandas.pydata.org/pandas-docs/stable/generated/pandas.DataFrame.merge.html) and [`pivot_table`](http://pandas.pydata.org/pandas-docs/stable/generated/pandas.pivot_table.html) functions for this purpose):\n",
    "<ul>\n",
    "<li> customer_name\n",
    "<li> One column for each offer, with a 1 if the customer responded to the offer\n",
    "</ul>\n",
    "<p>Make sure you also deal with any weird values such as `NaN`. Read the documentation to develop your solution.</p>\n",
    "</div>"
   ]
  },
  {
   "cell_type": "code",
   "execution_count": null,
   "metadata": {
    "scrolled": true
   },
   "outputs": [],
   "source": [
    "#your turn\n",
    "# Think about calling merge() on df_transactions and df_offers\n",
    "merged = pd._ _ _(df_transactions, df_offers)\n",
    "\n",
    "# We now want to make a pivot table\n",
    "pivoted = merged._ _ _(index='customer_name', columns='offer_id', values='n', fill_value=0)\n",
    "\n",
    "pivoted"
   ]
  },
  {
   "cell_type": "markdown",
   "metadata": {},
   "source": [
    "## 3. Modelling \n",
    "### 3a. K-Means Clustering\n",
    "\n",
    "Recall that in K-Means Clustering we want to *maximize* the distance between centroids and *minimize* the distance between data points and the respective centroid for the cluster they are in. True evaluation for unsupervised learning would require labeled data; however, we can use a variety of intuitive metrics to try to pick the number of clusters K. We will introduce two methods: the Elbow method, the Silhouette method and the gap statistic."
   ]
  },
  {
   "cell_type": "markdown",
   "metadata": {},
   "source": [
    "#### 3ai. Choosing K: The Elbow Sum-of-Squares Method\n",
    "\n",
    "The first method looks at the sum-of-squares error in each cluster against $K$. We compute the distance from each data point to the center of the cluster (centroid) to which the data point was assigned. \n",
    "\n",
    "$$SS = \\sum_k \\sum_{x_i \\in C_k} \\sum_{x_j \\in C_k} \\left( x_i - x_j \\right)^2 = \\sum_k \\sum_{x_i \\in C_k} \\left( x_i - \\mu_k \\right)^2$$\n",
    "\n",
    "where $x_i$ is a point, $C_k$ represents cluster $k$ and $\\mu_k$ is the centroid for cluster $k$. We can plot SS vs. $K$ and choose the *elbow point* in the plot as the best value for $K$. The elbow point is the point at which the plot starts descending much more slowly. \n",
    "\n",
    "**Hint:** the Elbow Method is discussed in part 2 of the Harvard Clustering lecture. "
   ]
  },
  {
   "cell_type": "markdown",
   "metadata": {},
   "source": [
    "<div class=\"span5 alert alert-info\">\n",
    "<h3>Checkup Exercise Set II</h3>\n",
    "\n",
    "<p><b>Exercise:</b></p> \n",
    "<ul>\n",
    "<li> What values of $SS$ do you believe represent better clusterings? Why?\n",
    "<li> Create a numpy matrix `x_cols` with only the columns representing the offers (i.e. the 0/1 colums) \n",
    "<li> Write code that applies the [`KMeans`](http://scikit-learn.org/stable/modules/generated/sklearn.cluster.KMeans.html) clustering method from scikit-learn to this matrix. \n",
    "<li> Construct a plot showing $SS$ for each $K$ and pick $K$ using this plot. For simplicity, test $2 \\le K \\le 10$.\n",
    "<li> Make a bar chart showing the number of points in each cluster for k-means under the best $K$.\n",
    "<li> What challenges did you experience using the Elbow method to pick $K$?\n",
    "</ul>\n",
    "</div>"
   ]
  },
  {
   "cell_type": "code",
   "execution_count": null,
   "metadata": {},
   "outputs": [],
   "source": [
    "# your turn\n",
    "import sklearn.cluster\n",
    "import numpy as np\n",
    "\n",
    "# Make an empty list\n",
    "ss = _ _ _\n",
    "\n",
    "# Make an empty dictionary called assignments \n",
    "_ _ _ = _ _ _\n",
    "\n",
    "# Cast your table 'pivoted' as a matrix with to_numpy(), and store it in a variable X \n",
    "_ _ _ = pivoted._ _ _\n",
    "\n",
    "# Make a variable called Krange, and assign it a list of range(2, 11)\n",
    "_ _ _  = list(range(2, 11))\n",
    "\n",
    "# We now want to iterate through this list to construct a plot showing SS for each K. Name the iterator variable K \n",
    "for _ _ _ in _ _ _:\n",
    "    # Make a variable called model, and assign it the result of calling sklearn.cluster.KMeans, with n_clusters = K \n",
    "    _ _ _ = sklearn.cluster.KMeans(n_clusters=_ _ _)\n",
    "    assigned_cluster = model.fit_predict(X)\n",
    "    centers = model.cluster_centers_\n",
    "    ss.append(np.sum((X - centers[assigned_cluster]) ** 2))\n",
    "    assignments[str(K)] = assigned_cluster\n",
    "    \n",
    "# Call plot() on plt with parameters Krange and ss\n",
    "_ _ _._ _ _(_ _ _, ss)\n",
    "\n",
    "# Let's label the plot \n",
    "plt.xlabel(\"$K$\")\n",
    "plt.ylabel(\"Sum of Squares\")\n",
    "\n",
    "# Can you see what we're doing here? "
   ]
  },
  {
   "cell_type": "code",
   "execution_count": null,
   "metadata": {},
   "outputs": [],
   "source": [
    "# What is the best K? Fill in the assignment below appropriately\n",
    "best_K = _ _ _\n",
    "assignments_best_K = assignments[str(best_K)]\n",
    "counts = np.bincount(assignments_best_K)\n",
    "print(len(counts))\n",
    "\n",
    "# Call bar() on plt, with parameters range(best_K), counts, and align = 'center'\n",
    "_ _ _._ _ _()\n",
    "\n",
    "# Label the axes \n",
    "plt._ _ _(\"Cluster ID\")\n",
    "plt._ _ _(\"Count\")\n",
    "plt.xticks(range(best_K))"
   ]
  },
  {
   "cell_type": "markdown",
   "metadata": {},
   "source": [
    "#### 3aii. Choosing K: The Silhouette Method\n",
    "\n",
    "There exists another method that measures how well each datapoint $x_i$ \"fits\" its assigned cluster *and also* how poorly it fits into other clusters. This is a different way of looking at the same objective. Denote $a_{x_i}$ as the *average* distance from $x_i$ to all other points within its own cluster $k$. The lower the value, the better. On the other hand $b_{x_i}$ is the minimum average distance from $x_i$ to points in a different cluster, minimized over clusters. That is, compute separately for each cluster the average distance from $x_i$ to the points within that cluster, and then take the minimum. The silhouette $s(x_i)$ is defined as\n",
    "\n",
    "$$s(x_i) = \\frac{b_{x_i} - a_{x_i}}{\\max{\\left( a_{x_i}, b_{x_i}\\right)}}$$\n",
    "\n",
    "The silhouette score is computed on *every datapoint in every cluster*. The silhouette score ranges from -1 (a poor clustering) to +1 (a very dense clustering) with 0 denoting the situation where clusters overlap. Some criteria for the silhouette coefficient is provided in the table below."
   ]
  },
  {
   "cell_type": "markdown",
   "metadata": {},
   "source": [
    "<pre>\n",
    "\n",
    "| Range       | Interpretation                                |\n",
    "|-------------|-----------------------------------------------|\n",
    "| 0.71 - 1.0  | A strong structure has been found.            |\n",
    "| 0.51 - 0.7  | A reasonable structure has been found.        |\n",
    "| 0.26 - 0.5  | The structure is weak and could be artificial.|\n",
    "| < 0.25      | No substantial structure has been found.      |\n",
    "\n",
    "</pre>\n",
    "Source: http://www.stat.berkeley.edu/~spector/s133/Clus.html"
   ]
  },
  {
   "cell_type": "markdown",
   "metadata": {},
   "source": [
    "**Hint**: Scikit-learn provides a function to compute this for us (phew!) called [`sklearn.metrics.silhouette_score`](http://scikit-learn.org/stable/modules/generated/sklearn.metrics.silhouette_score.html). Take a look at [this article](http://scikit-learn.org/stable/auto_examples/cluster/plot_kmeans_silhouette_analysis.html) on picking $K$ in scikit-learn, as it will help you in the next exercise set."
   ]
  },
  {
   "cell_type": "markdown",
   "metadata": {},
   "source": [
    "<div class=\"span5 alert alert-info\">\n",
    "<h3>Checkup Exercise Set III</h3>\n",
    "\n",
    "<p><b>Exercise:</b> Using the documentation for the `silhouette_score` function above, construct a series of silhouette plots like the ones in the article linked above.</p>\n",
    "\n",
    "<p><b>Exercise:</b> Compute the average silhouette score for each $K$ and plot it. What $K$ does the plot suggest we should choose? Does it differ from what we found using the Elbow method?</p>\n",
    "</div>"
   ]
  },
  {
   "cell_type": "code",
   "execution_count": 9,
   "metadata": {},
   "outputs": [
    {
     "ename": "NameError",
     "evalue": "name 'X' is not defined",
     "output_type": "error",
     "traceback": [
      "\u001b[0;31m---------------------------------------------------------------------------\u001b[0m",
      "\u001b[0;31mNameError\u001b[0m                                 Traceback (most recent call last)",
      "Cell \u001b[0;32mIn[9], line 23\u001b[0m\n\u001b[1;32m     20\u001b[0m ax1\u001b[38;5;241m.\u001b[39mset_xlim([\u001b[38;5;241m-\u001b[39m\u001b[38;5;241m0.25\u001b[39m, \u001b[38;5;241m1\u001b[39m])\n\u001b[1;32m     21\u001b[0m \u001b[38;5;66;03m# The (n_clusters+1)*10 is for inserting blank space between silhouette\u001b[39;00m\n\u001b[1;32m     22\u001b[0m \u001b[38;5;66;03m# plots of individual clusters, to demarcate them clearly.\u001b[39;00m\n\u001b[0;32m---> 23\u001b[0m ax1\u001b[38;5;241m.\u001b[39mset_ylim([\u001b[38;5;241m0\u001b[39m, \u001b[38;5;28mlen\u001b[39m(X) \u001b[38;5;241m+\u001b[39m (K \u001b[38;5;241m+\u001b[39m \u001b[38;5;241m1\u001b[39m) \u001b[38;5;241m*\u001b[39m \u001b[38;5;241m10\u001b[39m])\n\u001b[1;32m     25\u001b[0m \u001b[38;5;66;03m# Initialize the clusterer with n_clusters value and a random generator\u001b[39;00m\n\u001b[1;32m     26\u001b[0m \u001b[38;5;66;03m# seed of 10 for reproducibility.\u001b[39;00m\n\u001b[1;32m     27\u001b[0m clusterer \u001b[38;5;241m=\u001b[39m sklearn\u001b[38;5;241m.\u001b[39mcluster\u001b[38;5;241m.\u001b[39mKMeans(n_clusters\u001b[38;5;241m=\u001b[39mK, random_state\u001b[38;5;241m=\u001b[39m\u001b[38;5;241m10\u001b[39m)\n",
      "\u001b[0;31mNameError\u001b[0m: name 'X' is not defined"
     ]
    },
    {
     "data": {
      "image/png": "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",
      "text/plain": [
       "<Figure size 900x500 with 1 Axes>"
      ]
     },
     "metadata": {},
     "output_type": "display_data"
    }
   ],
   "source": [
    "# This is an exercise in adapting someone else's code for our own use; a very common practice for data scientists and programmers alike\n",
    "# OUR SOURCE: http://scikit-learn.org/stable/auto_examples/cluster/plot_kmeans_silhouette_analysis.html\n",
    "\n",
    "import sklearn.metrics\n",
    "import matplotlib.cm as cm\n",
    "import matplotlib.pyplot as plt\n",
    "\n",
    "# Make an empty list called avg_silhouette_scores\n",
    "avg_silhouette_scores = []\n",
    "Krange = list(range(2, 11))\n",
    "# Iterate through Krange with variable K as before\n",
    "for K in Krange :\n",
    "    fig, ax1 = plt.subplots(1, 1)\n",
    "    fig.set_size_inches(9, 5)\n",
    "\n",
    "    # The 1st subplot is the silhouette plot\n",
    "    # The silhouette coefficient can range from -1, 1 but in this example all\n",
    "    # lie within [-0.1, 1]\n",
    "    # Call set_xlim on ax1 \n",
    "    ax1.set_xlim([-0.25, 1])\n",
    "    # The (n_clusters+1)*10 is for inserting blank space between silhouette\n",
    "    # plots of individual clusters, to demarcate them clearly.\n",
    "    ax1.set_ylim([0, len(X) + (K + 1) * 10])\n",
    "\n",
    "    # Initialize the clusterer with n_clusters value and a random generator\n",
    "    # seed of 10 for reproducibility.\n",
    "    clusterer = sklearn.cluster.KMeans(n_clusters=K, random_state=10)\n",
    "    cluster_labels = clusterer.fit_predict(X)\n",
    "\n",
    "    # The silhouette_score gives the average value for all the samples.\n",
    "    # This gives a perspective into the density and separation of the formed\n",
    "    # clusters\n",
    "    # Make a variable called silhouette_avg. Set the parameters to silhouette_score to X, and cluster_labels\n",
    "    silhouette_avg  = sklearn.metrics.silhouette_score(X, cluster_labels)\n",
    "    avg_silhouette_scores.append(silhouette_avg)\n",
    "\n",
    "    # Compute the silhouette scores for each sample\n",
    "    # Call sklearn.metrics.silhouette_samples with the below parameters\n",
    "    sample_silhouette_values = sklearn.metrics.silhouette_samples(X, cluster_labels)\n",
    "\n",
    "    y_lower = 10\n",
    "    for i in range(K):\n",
    "        # Aggregate the silhouette scores for samples belonging to\n",
    "        # cluster i, and sort them\n",
    "        # Make a variable called ith_cluster_silhouette_values\n",
    "        ith_cluster_silhouette_values = \\\n",
    "            sample_silhouette_values[cluster_labels == i]\n",
    "\n",
    "        # Call sort() on this variable \n",
    "        ith_cluster_silhouette_values.sort()\n",
    "    \n",
    "        # Call shape[0] on ith_cluster_silhouette_values \n",
    "        size_cluster_i = ith_cluster_silhouette_values.shape[0] \n",
    "        y_upper = y_lower + size_cluster_i\n",
    "\n",
    "        cmap = cm.get_cmap(\"Spectral\")\n",
    "        color = cmap(float(i) / K)\n",
    "        ax1.fill_betweenx(np.arange(y_lower, y_upper),\n",
    "                          0, ith_cluster_silhouette_values,\n",
    "                          facecolor=color, edgecolor=color, alpha=0.7)\n",
    "\n",
    "        # Label the silhouette plots with their cluster numbers at the middle\n",
    "        # This requires calling text() on ax1 \n",
    "        ax1.text(-0.05, y_lower + 0.5 * size_cluster_i, str(i))\n",
    "\n",
    "        # Compute the new y_lower for next plot\n",
    "        y_lower = y_upper + 10  # 10 for the 0 samples\n",
    "\n",
    "    # Setting title, xlabel and ylabel \n",
    "    ax1.xlabel(\"The silhouette plot for the various clusters.\")\n",
    "    ax1.ylabel(\"The silhouette coefficient values\")\n",
    "    ax1.title(\"Cluster label\")\n",
    "\n",
    "    # The vertical line for average silhouette score of all the values\n",
    "    # This requires axvline() \n",
    "    ax1.axvline(x=silhouette_avg, color=\"red\", linestyle=\"--\")\n",
    "\n",
    "    ax1.set_yticks([])  # Clear the yaxis labels / ticks\n",
    "    ax1.set_xticks([-0.1, 0, 0.2, 0.4, 0.6, 0.8, 1])\n",
    "\n",
    "    #plt.suptitle((\"Silhouette analysis for KMeans clustering on sample data \"\n",
    "     #             \"with n_clusters = %d\" % K),\n",
    "      #           fontsize=14, fontweight='bold')\n",
    "    #plt.show()"
   ]
  },
  {
   "cell_type": "markdown",
   "metadata": {},
   "source": [
    "<div class=\"span5 alert alert-success\">\n",
    "<h4>SOLUTIONS: Compute the average silhouette score for each $K$ and plot it. What $K$ does the plot suggest we should choose? Does it differ from what we found using the Elbow method?</p></h4>\n",
    "</div>"
   ]
  },
  {
   "cell_type": "code",
   "execution_count": null,
   "metadata": {},
   "outputs": [],
   "source": [
    "# Computing the avrage silhouette score for each K and plotting it \n",
    "# Call plot() with parameters KRange, avg_silhouette_scores\n",
    "plt._ _ _(_ _ _, avg_silhouette_scores)\n",
    "plt.xlabel(\"$K$\")\n",
    "plt.ylabel(\"Average Silhouette Score\")"
   ]
  },
  {
   "cell_type": "code",
   "execution_count": null,
   "metadata": {},
   "outputs": [],
   "source": [
    "# What can you conclude?"
   ]
  },
  {
   "cell_type": "markdown",
   "metadata": {},
   "source": [
    "#### 3aiii.  Choosing $K$: The Gap Statistic\n",
    "\n",
    "There is one last method worth covering for picking $K$, the so-called Gap statistic. The computation for the gap statistic builds on the sum-of-squares established in the Elbow method discussion, and compares it to the sum-of-squares of a \"null distribution,\" that is, a random set of points with no clustering. The estimate for the optimal number of clusters $K$ is the value for which $\\log{SS}$ falls the farthest below that of the reference distribution:\n",
    "\n",
    "$$G_k = E_n^*\\{\\log SS_k\\} - \\log SS_k$$\n",
    "\n",
    "In other words a good clustering yields a much larger difference between the reference distribution and the clustered data. The reference distribution is a Monte Carlo (randomization) procedure that constructs $B$ random distributions of points within the bounding box (limits) of the original data and then applies K-means to this synthetic distribution of data points.. $E_n^*\\{\\log SS_k\\}$ is just the average $SS_k$ over all $B$ replicates. We then compute the standard deviation $\\sigma_{SS}$ of the values of $SS_k$ computed from the $B$ replicates of the reference distribution and compute\n",
    "\n",
    "$$s_k = \\sqrt{1+1/B}\\sigma_{SS}$$\n",
    "\n",
    "Finally, we choose $K=k$ such that $G_k \\geq G_{k+1} - s_{k+1}$."
   ]
  },
  {
   "cell_type": "markdown",
   "metadata": {},
   "source": [
    "#### Aside: Choosing $K$ when we Have Labels\n",
    "\n",
    "Unsupervised learning expects that we do not have the labels. In some situations, we may wish to cluster data that is labeled. Computing the optimal number of clusters is much easier if we have access to labels. There are several methods available. We will not go into the math or details since it is rare to have access to the labels, but we provide the names and references of these measures.\n",
    "\n",
    "* Adjusted Rand Index\n",
    "* Mutual Information\n",
    "* V-Measure\n",
    "* Fowlkes–Mallows index\n",
    "\n",
    "**Hint:** See [this article](http://scikit-learn.org/stable/modules/clustering.html) for more information about these metrics."
   ]
  },
  {
   "cell_type": "markdown",
   "metadata": {},
   "source": [
    "### 3b. Visualizing Clusters using PCA\n",
    "\n",
    "How do we visualize clusters? If we only had two features, we could likely plot the data as is. But we have 100 data poi